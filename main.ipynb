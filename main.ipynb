{
 "cells": [
  {
   "cell_type": "code",
   "execution_count": null,
   "metadata": {},
   "outputs": [],
   "source": [
    "from os.path import join as pjoin\n",
    "import pandas as pd\n",
    "import numpy as np\n",
    "import pyarrow.parquet as pq\n",
    "from tqdm import tqdm\n",
    "\n",
    "import tensorflow as tf\n",
    "import tensorflow_addons as tfa\n",
    "tfkl = tf.keras.layers\n",
    "from tqdm.keras import TqdmCallback\n",
    "import json\n",
    "from sklearn.model_selection import StratifiedGroupKFold, StratifiedKFold\n",
    "import time\n",
    "import math\n",
    "import os\n",
    "\n",
    "import matplotlib.pyplot as plt\n",
    "\n",
    "import warnings\n",
    "warnings.simplefilter('ignore')\n",
    "\n",
    "from preprocess_models.full_length import Preprocess\n",
    "from models.LSTM import get_model\n",
    "from utils import *\n",
    "\n",
    "from sklearn.metrics import multilabel_confusion_matrix\n",
    "\n",
    "import imageio\n",
    "from PIL import Image"
   ]
  },
  {
   "attachments": {},
   "cell_type": "markdown",
   "metadata": {},
   "source": [
    "# Training loop gru"
   ]
  },
  {
   "cell_type": "code",
   "execution_count": null,
   "metadata": {},
   "outputs": [],
   "source": [
    "from utils import load_relevant_data_subset\n",
    "# from preprocess_models.interpolated_ragged import Preprocess\n",
    "from preprocess_models.interpolated_notragged import Preprocess\n",
    "from datasets.ragged_sym import get_KFold_dataset\n",
    "from models.gru import get_model\n",
    "\n",
    "folds = 7\n",
    "path = \"preprocessed_datasets/interpolated_notragged_nanfinalmask/\"\n",
    "\n",
    "ds = get_KFold_dataset(Preprocess(10), (None, 122), path)\n",
    "hp = {\n",
    "    \"gru1\": 96,\n",
    "    'nhead': 12,\n",
    "    'ff_dim': 160,\n",
    "    'input_dropout': 0.3,\n",
    "    'gru2': 96,\n",
    "    'output_dropout': 0.2\n",
    "}\n",
    "hp = {\n",
    "    \"gru1\": 80,\n",
    "    'nhead': 16,\n",
    "    'ff_dim': 192,\n",
    "    'input_dropout': 0.2,\n",
    "    'gru2': 128,\n",
    "    'output_dropout': 0.3\n",
    "}\n",
    "\n",
    "get_model(hp).summary()"
   ]
  },
  {
   "cell_type": "code",
   "execution_count": null,
   "metadata": {},
   "outputs": [],
   "source": [
    "val_accs = list()  \n",
    "for fold_idx in range(folds):\n",
    "    start = time.time()\n",
    "    print(f'\\n            *** Fold {fold_idx} ***\\n')\n",
    "    train_ds = ds.filter(lambda v, l, g, pid, sid: g != fold_idx).map(detuple).padded_batch(32)\n",
    "    valid_ds = ds.filter(lambda v, l, g, pid, sid: g == fold_idx).map(detuple).padded_batch(32)\n",
    "    model = get_model(hp)\n",
    "\n",
    "    lr = 1e-3\n",
    "\n",
    "    model.compile(\n",
    "        tf.keras.optimizers.Adam(learning_rate=lr),\n",
    "        tf.keras.losses.SparseCategoricalCrossentropy(from_logits=False),\n",
    "        metrics=[\n",
    "            tf.keras.metrics.SparseCategoricalAccuracy(),\n",
    "        ]\n",
    "    )\n",
    "    \n",
    "    hist = model.fit(\n",
    "        x=train_ds,\n",
    "        epochs=50,\n",
    "        verbose=2,\n",
    "        callbacks=[\n",
    "            TqdmCallback(verbose=0),\n",
    "            # TimeLimitCallback(start, 1, 10), \n",
    "            tf.keras.callbacks.LearningRateScheduler(scheduler),\n",
    "            tf.keras.callbacks.ModelCheckpoint(pjoin(path.split('/')[0], f\"model_{fold_idx}\"), \n",
    "                save_best_only=True, \n",
    "                save_weights_only=True,\n",
    "                restore_best_weights=True, \n",
    "                monitor=\"val_sparse_categorical_accuracy\", mode=\"max\"),\n",
    "            tf.keras.callbacks.EarlyStopping(patience=10, monitor=\"val_sparse_categorical_accuracy\", mode=\"max\", restore_best_weights=True)\n",
    "            ],\n",
    "        validation_data=valid_ds,\n",
    "        validation_freq=1,\n",
    "        workers=2,\n",
    "        use_multiprocessing=True\n",
    "    )\n",
    "\n",
    "    best_acc = max(hist.history['val_sparse_categorical_accuracy'])\n",
    "    print(\"Best acc fold\", fold_idx, \":\\n ->\", 100*round(best_acc, 4), \"%\")\n",
    "    val_accs.append(\n",
    "        best_acc\n",
    "    )\n",
    "    break\n",
    "\n",
    "print(\"Bagged final valid acc score:\")\n",
    "bagged_score = 100*np.round(np.array(val_accs).mean(), 4)\n",
    "print(bagged_score, \"%\")"
   ]
  },
  {
   "cell_type": "markdown",
   "metadata": {},
   "source": [
    "globalement 50 s pour une epoch -> voir effet batch size réduit sur généralisation ?"
   ]
  },
  {
   "cell_type": "markdown",
   "metadata": {},
   "source": [
    "Epoch 47/100\n",
    "\n",
    "2520/2520 - 52s - loss: 0.5897 - sparse_categorical_accuracy: 0.8558 - val_loss: 1.9944 - val_sparse_categorical_accuracy: 0.5938 - lr: 2.0242e-05 - 52s/epoch - 21ms/step"
   ]
  },
  {
   "attachments": {},
   "cell_type": "markdown",
   "metadata": {},
   "source": [
    "# Training loop ViViT"
   ]
  },
  {
   "attachments": {},
   "cell_type": "markdown",
   "metadata": {},
   "source": [
    "We will perform both modal (\"spatial\") and temporal attention"
   ]
  },
  {
   "attachments": {},
   "cell_type": "markdown",
   "metadata": {},
   "source": [
    "Get data"
   ]
  },
  {
   "cell_type": "code",
   "execution_count": null,
   "metadata": {},
   "outputs": [],
   "source": [
    "from preprocess_models.multimodal_vivit import Preprocess\n",
    "from datasets.vivit import get_KFold_dataset\n",
    "\n",
    "path = \"preprocessed_datasets/vivit_experiment_centerpad_50ts/\"\n",
    "ds = get_KFold_dataset(Preprocess(50), path)\n",
    "\n",
    "from models.vivitlike import get_model\n",
    "model = get_model({\n",
    "    'emb_dropout':0.,\n",
    "    'dim_model':256,#177\n",
    "    'num_enc':1,\n",
    "    # 'ff_dim':1024,\n",
    "    'nhead':8,\n",
    "    't_dropout':0.4\n",
    "})"
   ]
  },
  {
   "cell_type": "code",
   "execution_count": null,
   "metadata": {},
   "outputs": [],
   "source": [
    "#example to output a preprocessed gif\n",
    "\n",
    "BASE_DIR = \"asl-signs\"\n",
    "df = pd.read_csv(pjoin(BASE_DIR, \"train.csv\"))\n",
    "df['path'] = \"/Users/gus/Desktop/envs/asl/asl-signs/\"+df['path']\n",
    "\n",
    "#random path \n",
    "sample = df.sample(1)\n",
    "pq_path = sample.path.iloc[0]\n",
    "print(sample.sign.iloc[0])\n",
    "from utils import *\n",
    "lm = load_relevant_data_subset(pq_path)\n",
    "\n",
    "p = Preprocess(64)\n",
    "p.output_gif_result(lm)\n",
    "# p.output_gif_result(right_handed)"
   ]
  },
  {
   "cell_type": "code",
   "execution_count": null,
   "metadata": {},
   "outputs": [],
   "source": [
    "fold_idx = 0\n",
    "train_ds = ds.filter(lambda X, y: X['group'] != fold_idx).shuffle(int(1e5)).batch(32)\n",
    "valid_ds = ds.filter(lambda X, y: X['group'] == fold_idx).batch(256)\n",
    "\n",
    "with tf.device('/cpu:0'):\n",
    "    lr = 1e-3\n",
    "\n",
    "    model.compile(\n",
    "        tf.keras.optimizers.legacy.Adam(learning_rate=lr),\n",
    "        tf.keras.losses.SparseCategoricalCrossentropy(from_logits=False),\n",
    "        metrics=[\n",
    "            tf.keras.metrics.SparseCategoricalAccuracy(),\n",
    "        ]\n",
    "    )\n",
    "\n",
    "    hist = model.fit(\n",
    "        x=train_ds,\n",
    "        epochs=100,\n",
    "        verbose=1,\n",
    "        callbacks=[\n",
    "            tf.keras.callbacks.LearningRateScheduler(scheduler),\n",
    "            tf.keras.callbacks.ModelCheckpoint(pjoin(path.split('/')[0], f\"model_{fold_idx}\"), \n",
    "                save_best_only=True, \n",
    "                save_weights_only=True,\n",
    "                restore_best_weights=True, \n",
    "                monitor=\"val_sparse_categorical_accuracy\", mode=\"max\"),\n",
    "            tf.keras.callbacks.EarlyStopping(patience=10, monitor=\"val_sparse_categorical_accuracy\", mode=\"max\", restore_best_weights=True)\n",
    "            ],\n",
    "        validation_data=valid_ds,\n",
    "        validation_freq=1,\n",
    "        workers=2,\n",
    "        use_multiprocessing=True\n",
    "    )"
   ]
  }
 ],
 "metadata": {
  "kernelspec": {
   "display_name": "asl",
   "language": "python",
   "name": "python3"
  },
  "language_info": {
   "codemirror_mode": {
    "name": "ipython",
    "version": 3
   },
   "file_extension": ".py",
   "mimetype": "text/x-python",
   "name": "python",
   "nbconvert_exporter": "python",
   "pygments_lexer": "ipython3",
   "version": "3.9.12"
  },
  "orig_nbformat": 4
 },
 "nbformat": 4,
 "nbformat_minor": 2
}
